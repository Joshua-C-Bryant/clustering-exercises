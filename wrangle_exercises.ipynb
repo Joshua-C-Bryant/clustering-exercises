{
 "cells": [
  {
   "cell_type": "code",
   "execution_count": 1,
   "id": "83d9ede9",
   "metadata": {},
   "outputs": [],
   "source": [
    "import numpy as np\n",
    "import pandas as pd\n",
    "import matplotlib.pyplot as plt\n",
    "import seaborn as sns\n",
    "import scipy.stats as stats\n",
    "import env\n",
    "import warnings\n",
    "warnings.filterwarnings('ignore')"
   ]
  },
  {
   "cell_type": "code",
   "execution_count": 2,
   "id": "4b57732c",
   "metadata": {},
   "outputs": [],
   "source": [
    "# from our acquire.py:\n",
    "def get_connection(db, user=env.user, host=env.host, password=env.password):\n",
    "    return f'mysql+pymysql://{user}:{password}@{host}/{db}'\n",
    "    \n",
    "def get_zillow_data():\n",
    "    df = pd.read_sql(\"\"\"SELECT *\n",
    "FROM properties_2017\n",
    "LEFT JOIN airconditioningtype \n",
    "ON airconditioningtype.airconditioningtypeid = properties_2017.airconditioningtypeid\n",
    "LEFT JOIN architecturalstyletype\n",
    "ON architecturalstyletype.architecturalstyletypeid = properties_2017.architecturalstyletypeid\n",
    "LEFT JOIN buildingclasstype \n",
    "ON buildingclasstype.buildingclasstypeid = properties_2017.buildingclasstypeid\n",
    "LEFT JOIN heatingorsystemtype\n",
    "ON heatingorsystemtype.heatingorsystemtypeid = properties_2017.heatingorsystemtypeid\n",
    "LEFT JOIN predictions_2017\n",
    "ON predictions_2017.id = properties_2017.id\n",
    "INNER JOIN (SELECT id, MAX(transactiondate) as last_trans_date \n",
    "            FROM predictions_2017\n",
    "            GROUP BY id) predictions \n",
    "    ON predictions.id = properties_2017.id \n",
    "    AND predictions_2017.transactiondate = predictions.last_trans_date\n",
    "LEFT JOIN propertylandusetype\n",
    "ON propertylandusetype.propertylandusetypeid = properties_2017.propertylandusetypeid\n",
    "LEFT JOIN storytype\n",
    "ON storytype.storytypeid = properties_2017.storytypeid\n",
    "LEFT JOIN typeconstructiontype\n",
    "ON typeconstructiontype.typeconstructiontypeid = properties_2017.typeconstructiontypeid\n",
    "JOIN unique_properties\n",
    "ON unique_properties.parcelid = properties_2017.parcelid\n",
    "WHERE latitude IS NOT NULL and longitude IS NOT NULL;\"\"\", get_connection('zillow'))\n",
    "    return df"
   ]
  },
  {
   "cell_type": "code",
   "execution_count": 3,
   "id": "a842e8a7",
   "metadata": {},
   "outputs": [],
   "source": [
    "df = get_zillow_data()"
   ]
  },
  {
   "cell_type": "code",
   "execution_count": 4,
   "id": "4c088d06",
   "metadata": {},
   "outputs": [
    {
     "data": {
      "text/html": [
       "<div>\n",
       "<style scoped>\n",
       "    .dataframe tbody tr th:only-of-type {\n",
       "        vertical-align: middle;\n",
       "    }\n",
       "\n",
       "    .dataframe tbody tr th {\n",
       "        vertical-align: top;\n",
       "    }\n",
       "\n",
       "    .dataframe thead th {\n",
       "        text-align: right;\n",
       "    }\n",
       "</style>\n",
       "<table border=\"1\" class=\"dataframe\">\n",
       "  <thead>\n",
       "    <tr style=\"text-align: right;\">\n",
       "      <th></th>\n",
       "      <th>id</th>\n",
       "      <th>parcelid</th>\n",
       "      <th>airconditioningtypeid</th>\n",
       "      <th>architecturalstyletypeid</th>\n",
       "      <th>basementsqft</th>\n",
       "      <th>bathroomcnt</th>\n",
       "      <th>bedroomcnt</th>\n",
       "      <th>buildingclasstypeid</th>\n",
       "      <th>buildingqualitytypeid</th>\n",
       "      <th>calculatedbathnbr</th>\n",
       "      <th>...</th>\n",
       "      <th>transactiondate</th>\n",
       "      <th>id</th>\n",
       "      <th>last_trans_date</th>\n",
       "      <th>propertylandusetypeid</th>\n",
       "      <th>propertylandusedesc</th>\n",
       "      <th>storytypeid</th>\n",
       "      <th>storydesc</th>\n",
       "      <th>typeconstructiontypeid</th>\n",
       "      <th>typeconstructiondesc</th>\n",
       "      <th>parcelid</th>\n",
       "    </tr>\n",
       "  </thead>\n",
       "  <tbody>\n",
       "    <tr>\n",
       "      <th>0</th>\n",
       "      <td>0</td>\n",
       "      <td>10754147</td>\n",
       "      <td>NaN</td>\n",
       "      <td>NaN</td>\n",
       "      <td>NaN</td>\n",
       "      <td>0.0</td>\n",
       "      <td>0.0</td>\n",
       "      <td>NaN</td>\n",
       "      <td>NaN</td>\n",
       "      <td>NaN</td>\n",
       "      <td>...</td>\n",
       "      <td>2017-01-01</td>\n",
       "      <td>0</td>\n",
       "      <td>2017-01-01</td>\n",
       "      <td>269</td>\n",
       "      <td>Planned Unit Development</td>\n",
       "      <td>NaN</td>\n",
       "      <td>None</td>\n",
       "      <td>NaN</td>\n",
       "      <td>None</td>\n",
       "      <td>10754147</td>\n",
       "    </tr>\n",
       "    <tr>\n",
       "      <th>1</th>\n",
       "      <td>1</td>\n",
       "      <td>10759547</td>\n",
       "      <td>NaN</td>\n",
       "      <td>NaN</td>\n",
       "      <td>NaN</td>\n",
       "      <td>0.0</td>\n",
       "      <td>0.0</td>\n",
       "      <td>NaN</td>\n",
       "      <td>NaN</td>\n",
       "      <td>NaN</td>\n",
       "      <td>...</td>\n",
       "      <td>2017-01-01</td>\n",
       "      <td>1</td>\n",
       "      <td>2017-01-01</td>\n",
       "      <td>261</td>\n",
       "      <td>Single Family Residential</td>\n",
       "      <td>NaN</td>\n",
       "      <td>None</td>\n",
       "      <td>NaN</td>\n",
       "      <td>None</td>\n",
       "      <td>10759547</td>\n",
       "    </tr>\n",
       "    <tr>\n",
       "      <th>2</th>\n",
       "      <td>2</td>\n",
       "      <td>10843547</td>\n",
       "      <td>NaN</td>\n",
       "      <td>NaN</td>\n",
       "      <td>NaN</td>\n",
       "      <td>0.0</td>\n",
       "      <td>0.0</td>\n",
       "      <td>5.0</td>\n",
       "      <td>NaN</td>\n",
       "      <td>NaN</td>\n",
       "      <td>...</td>\n",
       "      <td>2017-01-01</td>\n",
       "      <td>2</td>\n",
       "      <td>2017-01-01</td>\n",
       "      <td>47</td>\n",
       "      <td>Store/Office (Mixed Use)</td>\n",
       "      <td>NaN</td>\n",
       "      <td>None</td>\n",
       "      <td>NaN</td>\n",
       "      <td>None</td>\n",
       "      <td>10843547</td>\n",
       "    </tr>\n",
       "    <tr>\n",
       "      <th>3</th>\n",
       "      <td>3</td>\n",
       "      <td>10859147</td>\n",
       "      <td>NaN</td>\n",
       "      <td>NaN</td>\n",
       "      <td>NaN</td>\n",
       "      <td>0.0</td>\n",
       "      <td>0.0</td>\n",
       "      <td>3.0</td>\n",
       "      <td>6.0</td>\n",
       "      <td>NaN</td>\n",
       "      <td>...</td>\n",
       "      <td>2017-01-01</td>\n",
       "      <td>3</td>\n",
       "      <td>2017-01-01</td>\n",
       "      <td>47</td>\n",
       "      <td>Store/Office (Mixed Use)</td>\n",
       "      <td>NaN</td>\n",
       "      <td>None</td>\n",
       "      <td>NaN</td>\n",
       "      <td>None</td>\n",
       "      <td>10859147</td>\n",
       "    </tr>\n",
       "    <tr>\n",
       "      <th>4</th>\n",
       "      <td>4</td>\n",
       "      <td>10879947</td>\n",
       "      <td>NaN</td>\n",
       "      <td>NaN</td>\n",
       "      <td>NaN</td>\n",
       "      <td>0.0</td>\n",
       "      <td>0.0</td>\n",
       "      <td>4.0</td>\n",
       "      <td>NaN</td>\n",
       "      <td>NaN</td>\n",
       "      <td>...</td>\n",
       "      <td>2017-01-01</td>\n",
       "      <td>4</td>\n",
       "      <td>2017-01-01</td>\n",
       "      <td>31</td>\n",
       "      <td>Commercial/Office/Residential Mixed Used</td>\n",
       "      <td>NaN</td>\n",
       "      <td>None</td>\n",
       "      <td>NaN</td>\n",
       "      <td>None</td>\n",
       "      <td>10879947</td>\n",
       "    </tr>\n",
       "  </tbody>\n",
       "</table>\n",
       "<p>5 rows × 80 columns</p>\n",
       "</div>"
      ],
      "text/plain": [
       "   id  parcelid  airconditioningtypeid  architecturalstyletypeid  \\\n",
       "0   0  10754147                    NaN                       NaN   \n",
       "1   1  10759547                    NaN                       NaN   \n",
       "2   2  10843547                    NaN                       NaN   \n",
       "3   3  10859147                    NaN                       NaN   \n",
       "4   4  10879947                    NaN                       NaN   \n",
       "\n",
       "   basementsqft  bathroomcnt  bedroomcnt  buildingclasstypeid  \\\n",
       "0           NaN          0.0         0.0                  NaN   \n",
       "1           NaN          0.0         0.0                  NaN   \n",
       "2           NaN          0.0         0.0                  5.0   \n",
       "3           NaN          0.0         0.0                  3.0   \n",
       "4           NaN          0.0         0.0                  4.0   \n",
       "\n",
       "   buildingqualitytypeid  calculatedbathnbr  ...  transactiondate  id  \\\n",
       "0                    NaN                NaN  ...       2017-01-01   0   \n",
       "1                    NaN                NaN  ...       2017-01-01   1   \n",
       "2                    NaN                NaN  ...       2017-01-01   2   \n",
       "3                    6.0                NaN  ...       2017-01-01   3   \n",
       "4                    NaN                NaN  ...       2017-01-01   4   \n",
       "\n",
       "   last_trans_date  propertylandusetypeid  \\\n",
       "0       2017-01-01                    269   \n",
       "1       2017-01-01                    261   \n",
       "2       2017-01-01                     47   \n",
       "3       2017-01-01                     47   \n",
       "4       2017-01-01                     31   \n",
       "\n",
       "                        propertylandusedesc  storytypeid  storydesc  \\\n",
       "0                  Planned Unit Development          NaN       None   \n",
       "1                 Single Family Residential          NaN       None   \n",
       "2                  Store/Office (Mixed Use)          NaN       None   \n",
       "3                  Store/Office (Mixed Use)          NaN       None   \n",
       "4  Commercial/Office/Residential Mixed Used          NaN       None   \n",
       "\n",
       "   typeconstructiontypeid  typeconstructiondesc  parcelid  \n",
       "0                     NaN                  None  10754147  \n",
       "1                     NaN                  None  10759547  \n",
       "2                     NaN                  None  10843547  \n",
       "3                     NaN                  None  10859147  \n",
       "4                     NaN                  None  10879947  \n",
       "\n",
       "[5 rows x 80 columns]"
      ]
     },
     "execution_count": 4,
     "metadata": {},
     "output_type": "execute_result"
    }
   ],
   "source": [
    "df.head()"
   ]
  },
  {
   "cell_type": "code",
   "execution_count": 5,
   "id": "2e80413c",
   "metadata": {},
   "outputs": [
    {
     "data": {
      "text/plain": [
       "Index(['id', 'parcelid', 'airconditioningtypeid', 'architecturalstyletypeid',\n",
       "       'basementsqft', 'bathroomcnt', 'bedroomcnt', 'buildingclasstypeid',\n",
       "       'buildingqualitytypeid', 'calculatedbathnbr', 'decktypeid',\n",
       "       'finishedfloor1squarefeet', 'calculatedfinishedsquarefeet',\n",
       "       'finishedsquarefeet12', 'finishedsquarefeet13', 'finishedsquarefeet15',\n",
       "       'finishedsquarefeet50', 'finishedsquarefeet6', 'fips', 'fireplacecnt',\n",
       "       'fullbathcnt', 'garagecarcnt', 'garagetotalsqft', 'hashottuborspa',\n",
       "       'heatingorsystemtypeid', 'latitude', 'longitude', 'lotsizesquarefeet',\n",
       "       'poolcnt', 'poolsizesum', 'pooltypeid10', 'pooltypeid2', 'pooltypeid7',\n",
       "       'propertycountylandusecode', 'propertylandusetypeid',\n",
       "       'propertyzoningdesc', 'rawcensustractandblock', 'regionidcity',\n",
       "       'regionidcounty', 'regionidneighborhood', 'regionidzip', 'roomcnt',\n",
       "       'storytypeid', 'threequarterbathnbr', 'typeconstructiontypeid',\n",
       "       'unitcnt', 'yardbuildingsqft17', 'yardbuildingsqft26', 'yearbuilt',\n",
       "       'numberofstories', 'fireplaceflag', 'structuretaxvaluedollarcnt',\n",
       "       'taxvaluedollarcnt', 'assessmentyear', 'landtaxvaluedollarcnt',\n",
       "       'taxamount', 'taxdelinquencyflag', 'taxdelinquencyyear',\n",
       "       'censustractandblock', 'airconditioningtypeid', 'airconditioningdesc',\n",
       "       'architecturalstyletypeid', 'architecturalstyledesc',\n",
       "       'buildingclasstypeid', 'buildingclassdesc', 'heatingorsystemtypeid',\n",
       "       'heatingorsystemdesc', 'id', 'parcelid', 'logerror', 'transactiondate',\n",
       "       'id', 'last_trans_date', 'propertylandusetypeid', 'propertylandusedesc',\n",
       "       'storytypeid', 'storydesc', 'typeconstructiontypeid',\n",
       "       'typeconstructiondesc', 'parcelid'],\n",
       "      dtype='object')"
      ]
     },
     "execution_count": 5,
     "metadata": {},
     "output_type": "execute_result"
    }
   ],
   "source": [
    "df.columns"
   ]
  },
  {
   "cell_type": "code",
   "execution_count": 6,
   "id": "e291ba7a",
   "metadata": {},
   "outputs": [
    {
     "data": {
      "text/plain": [
       "False    77614\n",
       "dtype: int64"
      ]
     },
     "execution_count": 6,
     "metadata": {},
     "output_type": "execute_result"
    }
   ],
   "source": [
    "df.parcelid.duplicated().value_counts()"
   ]
  },
  {
   "cell_type": "code",
   "execution_count": 7,
   "id": "8cc96d60",
   "metadata": {},
   "outputs": [
    {
     "data": {
      "text/plain": [
       "array([False, False, False, False, False, False, False, False, False,\n",
       "       False, False, False, False, False, False, False, False, False,\n",
       "       False, False, False, False, False, False, False, False, False,\n",
       "       False, False, False, False, False, False, False, False, False,\n",
       "       False, False, False, False, False, False, False, False, False,\n",
       "       False, False, False, False, False, False, False, False, False,\n",
       "       False, False, False, False, False,  True, False,  True, False,\n",
       "        True, False,  True, False,  True,  True, False, False,  True,\n",
       "       False,  True, False,  True, False,  True, False,  True])"
      ]
     },
     "execution_count": 7,
     "metadata": {},
     "output_type": "execute_result"
    }
   ],
   "source": [
    "df.columns.duplicated()"
   ]
  },
  {
   "cell_type": "code",
   "execution_count": 8,
   "id": "f3e16b7d",
   "metadata": {},
   "outputs": [
    {
     "data": {
      "text/plain": [
       "80"
      ]
     },
     "execution_count": 8,
     "metadata": {},
     "output_type": "execute_result"
    }
   ],
   "source": [
    "len(df.columns)"
   ]
  },
  {
   "cell_type": "code",
   "execution_count": 9,
   "id": "dff51837",
   "metadata": {},
   "outputs": [],
   "source": [
    "df = df.loc[:,~df.columns.duplicated()]"
   ]
  },
  {
   "cell_type": "code",
   "execution_count": 10,
   "id": "c2d2940b",
   "metadata": {},
   "outputs": [
    {
     "data": {
      "text/plain": [
       "69"
      ]
     },
     "execution_count": 10,
     "metadata": {},
     "output_type": "execute_result"
    }
   ],
   "source": [
    "len(df.columns)"
   ]
  },
  {
   "cell_type": "code",
   "execution_count": 11,
   "id": "d39a62c4",
   "metadata": {},
   "outputs": [
    {
     "data": {
      "text/plain": [
       "0        2017-01-01\n",
       "1        2017-01-01\n",
       "2        2017-01-01\n",
       "3        2017-01-01\n",
       "4        2017-01-01\n",
       "            ...    \n",
       "77609    2017-09-20\n",
       "77610    2017-09-21\n",
       "77611    2017-09-21\n",
       "77612    2017-09-25\n",
       "77613    2018-05-25\n",
       "Name: transactiondate, Length: 77614, dtype: object"
      ]
     },
     "execution_count": 11,
     "metadata": {},
     "output_type": "execute_result"
    }
   ],
   "source": [
    "df.transactiondate"
   ]
  },
  {
   "cell_type": "code",
   "execution_count": 12,
   "id": "fa79b1cf",
   "metadata": {},
   "outputs": [],
   "source": [
    "df.drop(df.tail(1).index,inplace = True)"
   ]
  },
  {
   "cell_type": "code",
   "execution_count": 13,
   "id": "fbbdd3a6",
   "metadata": {},
   "outputs": [
    {
     "data": {
      "text/plain": [
       "0        2017-01-01\n",
       "1        2017-01-01\n",
       "2        2017-01-01\n",
       "3        2017-01-01\n",
       "4        2017-01-01\n",
       "            ...    \n",
       "77608    2017-09-20\n",
       "77609    2017-09-20\n",
       "77610    2017-09-21\n",
       "77611    2017-09-21\n",
       "77612    2017-09-25\n",
       "Name: transactiondate, Length: 77613, dtype: object"
      ]
     },
     "execution_count": 13,
     "metadata": {},
     "output_type": "execute_result"
    }
   ],
   "source": [
    "df.transactiondate"
   ]
  },
  {
   "cell_type": "code",
   "execution_count": 14,
   "id": "206b35db",
   "metadata": {},
   "outputs": [
    {
     "data": {
      "text/plain": [
       "False"
      ]
     },
     "execution_count": 14,
     "metadata": {},
     "output_type": "execute_result"
    }
   ],
   "source": [
    "df.duplicated().any()"
   ]
  },
  {
   "cell_type": "code",
   "execution_count": 15,
   "id": "e112a10f",
   "metadata": {},
   "outputs": [
    {
     "data": {
      "text/plain": [
       "last_trans_date           1\n",
       "finishedsquarefeet50      1\n",
       "pooltypeid7               1\n",
       "airconditioningtypeid     1\n",
       "heatingorsystemtypeid     1\n",
       "                         ..\n",
       "logerror                  1\n",
       "fireplacecnt              1\n",
       "unitcnt                   1\n",
       "architecturalstyledesc    1\n",
       "id                        1\n",
       "Length: 69, dtype: int64"
      ]
     },
     "execution_count": 15,
     "metadata": {},
     "output_type": "execute_result"
    }
   ],
   "source": [
    "df.columns.value_counts()"
   ]
  },
  {
   "cell_type": "code",
   "execution_count": 16,
   "id": "c23b0171",
   "metadata": {},
   "outputs": [
    {
     "data": {
      "text/plain": [
       "['id',\n",
       " 'parcelid',\n",
       " 'airconditioningtypeid',\n",
       " 'architecturalstyletypeid',\n",
       " 'basementsqft',\n",
       " 'bathroomcnt',\n",
       " 'bedroomcnt',\n",
       " 'buildingclasstypeid',\n",
       " 'buildingqualitytypeid',\n",
       " 'calculatedbathnbr',\n",
       " 'decktypeid',\n",
       " 'finishedfloor1squarefeet',\n",
       " 'calculatedfinishedsquarefeet',\n",
       " 'finishedsquarefeet12',\n",
       " 'finishedsquarefeet13',\n",
       " 'finishedsquarefeet15',\n",
       " 'finishedsquarefeet50',\n",
       " 'finishedsquarefeet6',\n",
       " 'fips',\n",
       " 'fireplacecnt',\n",
       " 'fullbathcnt',\n",
       " 'garagecarcnt',\n",
       " 'garagetotalsqft',\n",
       " 'hashottuborspa',\n",
       " 'heatingorsystemtypeid',\n",
       " 'latitude',\n",
       " 'longitude',\n",
       " 'lotsizesquarefeet',\n",
       " 'poolcnt',\n",
       " 'poolsizesum',\n",
       " 'pooltypeid10',\n",
       " 'pooltypeid2',\n",
       " 'pooltypeid7',\n",
       " 'propertycountylandusecode',\n",
       " 'propertylandusetypeid',\n",
       " 'propertyzoningdesc',\n",
       " 'rawcensustractandblock',\n",
       " 'regionidcity',\n",
       " 'regionidcounty',\n",
       " 'regionidneighborhood',\n",
       " 'regionidzip',\n",
       " 'roomcnt',\n",
       " 'storytypeid',\n",
       " 'threequarterbathnbr',\n",
       " 'typeconstructiontypeid',\n",
       " 'unitcnt',\n",
       " 'yardbuildingsqft17',\n",
       " 'yardbuildingsqft26',\n",
       " 'yearbuilt',\n",
       " 'numberofstories',\n",
       " 'fireplaceflag',\n",
       " 'structuretaxvaluedollarcnt',\n",
       " 'taxvaluedollarcnt',\n",
       " 'assessmentyear',\n",
       " 'landtaxvaluedollarcnt',\n",
       " 'taxamount',\n",
       " 'taxdelinquencyflag',\n",
       " 'taxdelinquencyyear',\n",
       " 'censustractandblock',\n",
       " 'airconditioningdesc',\n",
       " 'architecturalstyledesc',\n",
       " 'buildingclassdesc',\n",
       " 'heatingorsystemdesc',\n",
       " 'logerror',\n",
       " 'transactiondate',\n",
       " 'last_trans_date',\n",
       " 'propertylandusedesc',\n",
       " 'storydesc',\n",
       " 'typeconstructiondesc']"
      ]
     },
     "execution_count": 16,
     "metadata": {},
     "output_type": "execute_result"
    }
   ],
   "source": [
    "df.columns.tolist()"
   ]
  },
  {
   "cell_type": "code",
   "execution_count": 17,
   "id": "cc18578d",
   "metadata": {},
   "outputs": [
    {
     "data": {
      "text/plain": [
       "False    77613\n",
       "Name: parcelid, dtype: int64"
      ]
     },
     "execution_count": 17,
     "metadata": {},
     "output_type": "execute_result"
    }
   ],
   "source": [
    "df.parcelid.duplicated().value_counts()"
   ]
  },
  {
   "cell_type": "code",
   "execution_count": 21,
   "id": "be4ac832",
   "metadata": {},
   "outputs": [
    {
     "data": {
      "text/plain": [
       "id                          False\n",
       "parcelid                    False\n",
       "airconditioningtypeid        True\n",
       "architecturalstyletypeid     True\n",
       "basementsqft                 True\n",
       "                            ...  \n",
       "transactiondate             False\n",
       "last_trans_date             False\n",
       "propertylandusedesc         False\n",
       "storydesc                    True\n",
       "typeconstructiondesc         True\n",
       "Length: 69, dtype: bool"
      ]
     },
     "execution_count": 21,
     "metadata": {},
     "output_type": "execute_result"
    }
   ],
   "source": [
    "df.isnull().any()"
   ]
  },
  {
   "cell_type": "code",
   "execution_count": 22,
   "id": "a8ff4bc2",
   "metadata": {},
   "outputs": [
    {
     "data": {
      "text/plain": [
       "1.0     19626\n",
       "13.0     1509\n",
       "5.0       219\n",
       "9.0        55\n",
       "11.0       46\n",
       "12.0        1\n",
       "Name: airconditioningtypeid, dtype: int64"
      ]
     },
     "execution_count": 22,
     "metadata": {},
     "output_type": "execute_result"
    }
   ],
   "source": [
    "# Will most likely fill nulls with zero\n",
    "df.airconditioningtypeid.value_counts()"
   ]
  },
  {
   "cell_type": "code",
   "execution_count": 23,
   "id": "881be6ea",
   "metadata": {},
   "outputs": [
    {
     "data": {
      "text/plain": [
       "7.0     133\n",
       "8.0      10\n",
       "21.0      5\n",
       "2.0       3\n",
       "Name: architecturalstyletypeid, dtype: int64"
      ]
     },
     "execution_count": 23,
     "metadata": {},
     "output_type": "execute_result"
    }
   ],
   "source": [
    "# Will most likely fill these nulls with zero\n",
    "df.architecturalstyletypeid.value_counts()"
   ]
  },
  {
   "cell_type": "code",
   "execution_count": 24,
   "id": "65e3a952",
   "metadata": {},
   "outputs": [
    {
     "data": {
      "text/plain": [
       "77613"
      ]
     },
     "execution_count": 24,
     "metadata": {},
     "output_type": "execute_result"
    }
   ],
   "source": [
    "df.shape[0]"
   ]
  },
  {
   "cell_type": "code",
   "execution_count": null,
   "id": "9eb5c0af",
   "metadata": {},
   "outputs": [],
   "source": []
  }
 ],
 "metadata": {
  "kernelspec": {
   "display_name": "Python 3",
   "language": "python",
   "name": "python3"
  },
  "language_info": {
   "codemirror_mode": {
    "name": "ipython",
    "version": 3
   },
   "file_extension": ".py",
   "mimetype": "text/x-python",
   "name": "python",
   "nbconvert_exporter": "python",
   "pygments_lexer": "ipython3",
   "version": "3.8.8"
  }
 },
 "nbformat": 4,
 "nbformat_minor": 5
}
